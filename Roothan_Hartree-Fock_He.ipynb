{
 "cells": [
  {
   "cell_type": "code",
   "execution_count": 1,
   "metadata": {},
   "outputs": [
    {
     "data": {
      "text/plain": [
       "<Figure size 504x360 with 0 Axes>"
      ]
     },
     "metadata": {},
     "output_type": "display_data"
    }
   ],
   "source": [
    "import numpy as np\n",
    "%matplotlib inline\n",
    "import matplotlib.pyplot as plt\n",
    "import matplotlib as mpl\n",
    "mpl.rcParams['mathtext.fontset'] = 'custom'\n",
    "mpl.rcParams['mathtext.rm'] = 'Times New Roman'\n",
    "mpl.rcParams['mathtext.it'] = 'Times New Roman:italic'\n",
    "mpl.rcParams['mathtext.bf'] = 'Times New Roman:bold'\n",
    "\n",
    "mpl.rc('font',family='serif',size='16')\n",
    "fig = plt.figure(1,figsize=(7,5))\n",
    "#fig = plt.figure(1,figsize=(7, 5)) ## To save figure.\n",
    "\n",
    "tableau20 = [(31, 119, 180), (174, 199, 232), (255, 127, 14), (255, 187, 120),    \n",
    "             (44, 160, 44), (152, 223, 138), (214, 39, 40), (255, 152, 150),    \n",
    "             (148, 103, 189), (197, 176, 213), (140, 86, 75), (196, 156, 148),    \n",
    "             (227, 119, 194), (247, 182, 210), (127, 127, 127), (199, 199, 199),    \n",
    "             (188, 189, 34), (219, 219, 141), (23, 190, 207), (158, 218, 229)]    \n",
    "  \n",
    "# Scale the RGB values to the [0, 1] range, which is the format matplotlib accepts.    \n",
    "for i in range(len(tableau20)):    \n",
    "    r, g, b = tableau20[i]    \n",
    "    tableau20[i] = (r / 255., g / 255., b / 255.) "
   ]
  },
  {
   "cell_type": "code",
   "execution_count": 2,
   "metadata": {},
   "outputs": [],
   "source": [
    "import copy"
   ]
  },
  {
   "cell_type": "markdown",
   "metadata": {},
   "source": [
    "# Hartree-Fock for He atom"
   ]
  },
  {
   "cell_type": "markdown",
   "metadata": {},
   "source": [
    "## $\\phi(\\boldsymbol{r} ) = \\sum_{p=1}^{4}C_p \\chi_p(\\boldsymbol{r})$\n",
    " $\\left[\n",
    "-\\frac{1}{2}\\nabla^2_1 - \\frac{2}{r_1} + \\sum_{r,s=1}^{4}C_r C_s\\int {\\rm{d}}^3 r_2\\, \\chi_r(\\boldsymbol{r}_2)\n",
    "\\chi_s(\\boldsymbol{r}_2)\\frac{1}{\\vert \\boldsymbol{r}_1 - \\boldsymbol{r}_2 \\vert}\n",
    "\\right]\\sum_{q=1}^{4}C_q \\chi_q (\\boldsymbol{r}_1) = E' \\sum_{q=1}^{4}C_q \\chi_q(\\boldsymbol{r}_1)$\n",
    "\n",
    "$\\sum_{p,q} \\left(\n",
    "h_{pq} + \\sum_{r,s}C_r C_s Q_{prqs}\n",
    "\\right) C_q = E'\\sum_{p,q}S_{pq}C_{q}$\n",
    "\n",
    "$\\begin{aligned}\n",
    "h_{pq} & = \\langle \\chi_{p} \\vert -\\frac{1}{2}\\nabla^2 - \\frac{2}{r}\\vert \\chi_q \\rangle \\\\\n",
    "Q_{prqs} & = \\int {\\rm{d}}^3r_1\\, {\\rm{d}}^3r_2\\, \\chi_p (\\boldsymbol{r}_1)\\chi_r (\\boldsymbol{r}_2) \\frac{1}{\\vert \\boldsymbol{r}_1 - \\boldsymbol{r}_2 \\vert }\\chi_q (\\boldsymbol{r}_1)\\chi_s (\\boldsymbol{r}_2)= [pq\\vert rs] \\\\\n",
    "S_{pq} & = \\langle \\chi_p \\vert \\chi_q \\rangle \\\\\n",
    "\\end{aligned}$\n",
    "\n",
    "Here, in actural calculations, we use $Q_{pq,rs}\\equiv [pr\\vert rs]$ (Q[p,q,r,s]) instead of the original $Q_{prqs}$, since the summation operation in our code is to sum over the $2^{\\rm{nd}}$ electron first, and then sum over the $1^{\\rm{st}}$ electron."
   ]
  },
  {
   "cell_type": "markdown",
   "metadata": {},
   "source": [
    "$\\chi_p (\\boldsymbol{r}) = e^{-\\alpha_{p} r^2}$\n",
    "\n",
    "\n",
    "$\\begin{aligned}\n",
    "\\alpha_1 & = 0.298073 \\\\\n",
    "\\alpha_2 & = 1.242567 \\\\\n",
    "\\alpha_3 & = 5.782948 \\\\\n",
    "\\alpha_4 & = 38.474970 \\\\\n",
    "\\end{aligned}$\n",
    "\n",
    "$\\begin{aligned}\n",
    "S_{pq} & = \\int {\\rm{d}}^3 r \\, e^{-\\alpha_p r^2} e^{-\\alpha_q r^2} = \\left(\\frac{\\pi}{\\alpha_p+\\alpha_q}\\right)^{3/2} \\\\\n",
    "T_{pq} & = -\\frac{1}{2}\\int{\\rm{d}}^3 r \\, e^{-\\alpha_p r^2}\\nabla^2 e^{-\\alpha_q r^2}\n",
    "= 3\\frac{\\alpha_p \\alpha_q \\pi^{3/2}}{(\\alpha_p + \\alpha_q)^{5/2}} \\\\\n",
    "A_{pq} &  = -\\int{\\rm{d}}^3 r \\,  e^{-\\alpha_p r^2} \\frac{2}{r} e^{-\\alpha_q r^2} = -\\frac{4\\pi}{\\alpha_p + \\alpha_q} \\\\\n",
    "h_{pq} & = T_{pq} + A_{pq} \\\\\n",
    "Q_{prqs} & = \\frac{2\\pi^{5/2}}{(\\alpha_p + \\alpha_q)(\\alpha_r+\\alpha_s)\\sqrt{\\alpha_p + \\alpha_q+\\alpha_r+\\alpha_s}} = [pq\\vert rs] \\\\\n",
    "\\end{aligned}$"
   ]
  },
  {
   "cell_type": "code",
   "execution_count": 3,
   "metadata": {},
   "outputs": [],
   "source": [
    "def calc_S(N_tot,Alpha):\n",
    "    S = np.zeros((N_tot,N_tot))\n",
    "    for p in range(N_tot):\n",
    "        for q in range(N_tot):\n",
    "            factor = np.pi/(Alpha[p]+Alpha[q])\n",
    "            S[p,q] = factor*np.sqrt(factor)\n",
    "    return S\n",
    "def calc_T(Alpha,N_tot):\n",
    "    T = np.zeros((N_tot,N_tot))\n",
    "    for i in range(N_tot):\n",
    "        for j in range(N_tot):\n",
    "            y = 3.0E0*Alpha[i]*Alpha[j]*np.pi*np.sqrt(np.pi)\n",
    "            z = (Alpha[i]+Alpha[j])**2*np.sqrt(Alpha[i]+Alpha[j])\n",
    "            T[i,j] = y/z\n",
    "    return T\n",
    "def calc_A(Alpha,N_tot):\n",
    "    A = np.zeros((N_tot,N_tot))\n",
    "    for i in range(N_tot):\n",
    "        for j in range(N_tot):\n",
    "            A[i,j] = -4.0E0*np.pi/(Alpha[i]+Alpha[j])\n",
    "    return A\n",
    "\n",
    "def calc_H(Alpha,N_tot):\n",
    "    H = np.zeros((N_tot,N_tot))\n",
    "    T = calc_T(Alpha,N_tot)\n",
    "    A = calc_A(Alpha,N_tot)\n",
    "    H = np.add(T,A)\n",
    "    return H\n",
    "\n",
    "def calc_Q(Alpha,N_tot):\n",
    "    Q = np.zeros((N_tot,N_tot,N_tot,N_tot))\n",
    "    for r in range(N_tot):\n",
    "        for s in range(r+1):\n",
    "            #print(\"InCalcQ: r, s: \", r, s)\n",
    "            for t in range(r+1):\n",
    "                if t < r:\n",
    "                    MaxU = t+1\n",
    "                else:\n",
    "                    MaxU = s+1\n",
    "                for u in range(MaxU):\n",
    "                    y = 2.0E0 * np.pi*np.pi * np.sqrt(np.pi)\n",
    "                    part_A = Alpha[r] + Alpha[s]\n",
    "                    part_B = Alpha[t] + Alpha[u]\n",
    "                    z = part_A*part_B*np.sqrt(part_A+part_B)\n",
    "                    Q[r,s,t,u] = y/z\n",
    "                    Q[r,s,u,t] = y/z\n",
    "                    Q[t,u,r,s] = y/z\n",
    "                    Q[t,u,s,r] = y/z\n",
    "    return Q\n",
    "def calc_G(N_tot,DensityMatrix,Q):\n",
    "    '''\n",
    "    Here we used the symmetry, change:\n",
    "    \\sum_{t=1}^{N}\\sum_{u=1}^{N} (1/2)D[t,u]*Q[r,s,t,u]\n",
    "    into:\n",
    "    \\sum_{t=1}^{N}(\\sum_{u=1}^{t-1}D[t,u]*Q[r,s,t,u]+(1/2)D[t,t]*Q[r,s,t,t])\n",
    "    '''\n",
    "    G = np.zeros((N_tot,N_tot))\n",
    "    for r in range(N_tot):\n",
    "        for s in range(r+1):\n",
    "            G[r,s] = 0.0E0\n",
    "            for t in range(N_tot):\n",
    "                for u in range(t):\n",
    "                    G[r,s] = G[r,s] + DensityMatrix[t,u]*Q[r,s,t,u]\n",
    "                G[r,s] += 0.5E0*DensityMatrix[t,t]*Q[r,s,t,t]\n",
    "            G[s,r] = G[r,s]\n",
    "    return G\n",
    "\n",
    "def calc_F(N_tot,G,H):\n",
    "    F = np.zeros((N_tot,N_tot))\n",
    "    for p in range(N_tot):\n",
    "        for q in range(N_tot):\n",
    "            F[p,q] = H[p,q] + G[p,q]\n",
    "    return F\n",
    "\n",
    "def Build_DensMat(C,S):\n",
    "    '''\n",
    "    D = 2 C.C^{T}/(C^{T}SC), and then normalized to:\n",
    "    \\sum_{i,j} 0.5*D[i,j]*S[i,j].\n",
    "    Since D is symmetric, we can do it as:\n",
    "    \\sum_{i=1}^{N}(\\sum_{j=1}^{i-1} D[i,j]*S[i,j] + 0.5*D[i,i]*S[i,i])\n",
    "    '''\n",
    "    DensMat = np.zeros((N_tot,N_tot))\n",
    "    Norm = 0.0E0\n",
    "    for r in range(N_tot):\n",
    "        for s in range(r):\n",
    "            DensMat[r,s] = 2.0*C[r]*C[s]\n",
    "            Norm += DensMat[r,s]*S[r,s]\n",
    "        DensMat[r,r] = 2.0*C[r]*C[r]\n",
    "        Norm += 0.5*DensMat[r,r]*S[r,r]\n",
    "        \n",
    "    Norm = 1.0E0/Norm\n",
    "    for r in range(N_tot):\n",
    "        for s in range(r+1):\n",
    "            DensMat[r,s] = DensMat[r,s]*Norm\n",
    "            DensMat[s,r] = DensMat[r,s]\n",
    "    return DensMat"
   ]
  },
  {
   "cell_type": "markdown",
   "metadata": {},
   "source": [
    "$\\sum_{p,q=1}^{4} C_p S_{pq} C_q = 1$\n",
    "\n",
    "$\\begin{aligned}\n",
    "P_{p,q} = \\frac{2 C C^{\\rm{T}}}{{\\rm{Norm}}}\n",
    "\\end{aligned}$\n",
    "\n",
    "$\\begin{aligned}\n",
    "{\\rm{Norm}} & =\\sum_{p=1}^{N}\\sum_{q=1}^{N} C_{p} S_{pq} C_{q} \\\\\n",
    "& =\\sum_{p=1}^{N}(\\sum_{q=1}^{p-1}2C_{p}S_{pq}C_{q}+C_{p}S_{pp}C_{p}) \\\\ \n",
    "\\end{aligned}$\n",
    "\n"
   ]
  },
  {
   "cell_type": "code",
   "execution_count": 4,
   "metadata": {},
   "outputs": [],
   "source": [
    "Alpha = np.array([0.298073,1.242567,5.782948,38.47497],dtype=float)"
   ]
  },
  {
   "cell_type": "code",
   "execution_count": 5,
   "metadata": {},
   "outputs": [],
   "source": [
    "N_tot = 4\n",
    "\n",
    "C0=np.zeros(N_tot)\n",
    "for i in range(N_tot):\n",
    "    C0[i] = 1.0E0\n",
    "    \n",
    "S = calc_S(N_tot,Alpha)\n",
    "D = Build_DensMat(C0,S)"
   ]
  },
  {
   "cell_type": "code",
   "execution_count": 7,
   "metadata": {},
   "outputs": [],
   "source": [
    "S = calc_S(N_tot,Alpha)\n",
    "\n",
    "H = calc_H(Alpha,N_tot)\n",
    "Q = calc_Q(Alpha,N_tot)\n",
    "G = calc_G(N_tot, D, Q)\n",
    "\n",
    "small_S, U = np.linalg.eigh(S)\n",
    "\n",
    "half_S = np.zeros((N_tot,N_tot))\n",
    "for i in range(N_tot):\n",
    "    half_S[i,i] = 1.0E0/np.sqrt(np.abs(small_S[i]))\n",
    "    \n",
    "V = np.dot(U,half_S)\n",
    "Vd = np.transpose(V)"
   ]
  },
  {
   "cell_type": "code",
   "execution_count": 8,
   "metadata": {},
   "outputs": [],
   "source": [
    "\n",
    "def DiagFock(S,N_tot,F,H, D,V,Vd,Q,i_fact):\n",
    "\n",
    "    tmp = np.dot(F,V) ### Here used is F.\n",
    "    H_prime = np.dot(Vd,tmp)\n",
    "    \n",
    "    ### Step 5: Calculate the eigenvalue problem.\n",
    "    EE, C_prime = np.linalg.eigh(H_prime)\n",
    "\n",
    "    ## print(EE)\n",
    "    C = np.dot(V,C_prime)\n",
    "    \n",
    "    C_use = copy.deepcopy(C[:,0])\n",
    "    D_new = Build_DensMat(C_use,S) ## Ground state only...\n",
    "\n",
    "    Ener = 0.0E0\n",
    "    tmp = 0.0E0\n",
    "\n",
    "    Ener = EE[0]\n",
    "    for i in range(N_tot):\n",
    "        for j in range(i):\n",
    "            Ener += D_new[i,j]*H[i,j]\n",
    "        Ener += 0.5E0*D_new[i,i]*H[i,i]\n",
    "    print(\"After round %4d Energy: %12.6f\" % (i_fact, Ener))\n",
    "    \n",
    "    return Ener, D_new"
   ]
  },
  {
   "cell_type": "code",
   "execution_count": 10,
   "metadata": {
    "scrolled": true
   },
   "outputs": [
    {
     "name": "stdout",
     "output_type": "stream",
     "text": [
      "After round    0 Energy:    -3.033776\n",
      "After round    1 Energy:    -2.808769\n",
      "After round    2 Energy:    -2.868018\n",
      "After round    3 Energy:    -2.851662\n",
      "After round    4 Energy:    -2.856117\n",
      "After round    5 Energy:    -2.854899\n",
      "After round    6 Energy:    -2.855232\n",
      "After round    7 Energy:    -2.855141\n",
      "After round    8 Energy:    -2.855166\n",
      "After round    9 Energy:    -2.855159\n",
      "After round   10 Energy:    -2.855161\n",
      "After round   11 Energy:    -2.855160\n",
      "After round   12 Energy:    -2.855160\n",
      "After round   13 Energy:    -2.855160\n",
      "After round   14 Energy:    -2.855160\n",
      "After round   15 Energy:    -2.855160\n",
      "After round   16 Energy:    -2.855160\n",
      "After round   17 Energy:    -2.855160\n",
      "After round   18 Energy:    -2.855160\n",
      "After round   19 Energy:    -2.855160\n"
     ]
    }
   ],
   "source": [
    "OldEner = -1.0E0\n",
    "Ener    = 0.0E0\n",
    "\n",
    "ener_traj = []\n",
    "for i in range(20): \n",
    "    OldEner = Ener\n",
    "    G = calc_G(N_tot,D,Q)\n",
    "    F = calc_F(N_tot,G,H)\n",
    "    Ener, D_new = DiagFock(S,N_tot,F,H,D,V,Vd,Q,i)\n",
    "    #print(\"---D New---\")\n",
    "    #with np.printoptions(precision=3, suppress=True):\n",
    "    #    print(D_new)\n",
    "    #plt.imshow(D_new,cmap='Blues')\n",
    "    #plt.show()\n",
    "    ### print(\"Cost: \", np.abs(OldEner - Ener))\n",
    "    ener_traj.append(Ener)\n",
    "    D = copy.deepcopy(D_new)\n",
    "    \n"
   ]
  },
  {
   "cell_type": "code",
   "execution_count": 11,
   "metadata": {},
   "outputs": [
    {
     "name": "stderr",
     "output_type": "stream",
     "text": [
      "findfont: Font family ['cursive'] not found. Falling back to DejaVu Sans.\n",
      "findfont: Font family ['Times New Roman'] not found. Falling back to DejaVu Sans.\n",
      "findfont: Font family ['Times New Roman'] not found. Falling back to DejaVu Sans.\n",
      "findfont: Font family ['Times New Roman'] not found. Falling back to DejaVu Sans.\n"
     ]
    },
    {
     "data": {
      "image/png": "[encoded data removed]",
      "text/plain": [
       "<Figure size 432x288 with 1 Axes>"
      ]
     },
     "metadata": {
      "needs_background": "light"
     },
     "output_type": "display_data"
    }
   ],
   "source": [
    "plt.plot(ener_traj,'o-',lw=3,markersize=10)\n",
    "plt.xlabel(r\"$N_{\\rm{step}}$\",fontsize=24)\n",
    "plt.ylabel(r\"Energy/Hartree\")\n",
    "figname='He_atom_HF.png'\n",
    "plt.tight_layout()\n",
    "plt.savefig(figname,dpi=300,format='png')\n",
    "plt.show()"
   ]
  },
  {
   "cell_type": "code",
   "execution_count": 12,
   "metadata": {},
   "outputs": [],
   "source": [
    "from pyscf import gto, scf"
   ]
  },
  {
   "cell_type": "code",
   "execution_count": 30,
   "metadata": {},
   "outputs": [],
   "source": [
    "mol = gto.M(\n",
    "    atom = [['He', (0, 0, 0)]],\n",
    "    basis = \"sto-3g\", unit=\"bohr\")"
   ]
  },
  {
   "cell_type": "code",
   "execution_count": 31,
   "metadata": {},
   "outputs": [],
   "source": [
    "s=mol.intor(\"int1e_ovlp_sph\")\n",
    "t=mol.intor(\"int1e_kin_sph\")\n",
    "vne=mol.intor(\"int1e_nuc_sph\")"
   ]
  },
  {
   "cell_type": "code",
   "execution_count": 32,
   "metadata": {},
   "outputs": [
    {
     "name": "stdout",
     "output_type": "stream",
     "text": [
      "Total number of basis fns: 1\n",
      "Shape of overlap, kinetic, vne matrices (1, 1) (1, 1) (1, 1)\n"
     ]
    }
   ],
   "source": [
    "Hcore = np.add(t,vne)\n",
    "nao=mol.nao_nr() ## obtain the number of atomic orbitals.\n",
    "print(\"Total number of basis fns:\", nao)\n",
    "print(\"Shape of overlap, kinetic, vne matrices\", s.shape, t.shape, vne.shape)"
   ]
  },
  {
   "cell_type": "code",
   "execution_count": 33,
   "metadata": {},
   "outputs": [],
   "source": [
    "N_tot = nao\n",
    "\n",
    "C0=np.zeros(N_tot)\n",
    "for i in range(N_tot):\n",
    "    C0[i] = 1.0E0\n",
    "    \n",
    "D = Build_DensMat(C0,s)\n",
    "\n",
    "small_S, U = np.linalg.eigh(s)\n",
    "## Step 2: Calculate s^{-1/2}.\n",
    "half_S = np.zeros((N_tot,N_tot))\n",
    "for i in range(N_tot):\n",
    "    half_S[i,i] = 1.0E0/np.sqrt(np.abs(small_S[i]))\n",
    "    #print(half_S[i,i])\n",
    "## Step 3: Calculate V = Us^{-1/2}.\n",
    "V = np.dot(U,half_S)\n",
    "## Step 4: Calculate H' = V^d H V.\n",
    "Vd = np.transpose(V)"
   ]
  },
  {
   "cell_type": "code",
   "execution_count": 34,
   "metadata": {},
   "outputs": [],
   "source": [
    "Q=mol.intor(\"int2e_sph\",aosym=1)\n",
    "Q=np.reshape(Q,[nao,nao,nao,nao])"
   ]
  },
  {
   "cell_type": "code",
   "execution_count": 35,
   "metadata": {},
   "outputs": [
    {
     "name": "stdout",
     "output_type": "stream",
     "text": [
      "After round    0 Energy:    -2.807784\n",
      "After round    1 Energy:    -2.807784\n",
      "After round    2 Energy:    -2.807784\n",
      "After round    3 Energy:    -2.807784\n",
      "After round    4 Energy:    -2.807784\n",
      "After round    5 Energy:    -2.807784\n",
      "After round    6 Energy:    -2.807784\n",
      "After round    7 Energy:    -2.807784\n",
      "After round    8 Energy:    -2.807784\n",
      "After round    9 Energy:    -2.807784\n",
      "After round   10 Energy:    -2.807784\n",
      "After round   11 Energy:    -2.807784\n",
      "After round   12 Energy:    -2.807784\n",
      "After round   13 Energy:    -2.807784\n",
      "After round   14 Energy:    -2.807784\n",
      "After round   15 Energy:    -2.807784\n",
      "After round   16 Energy:    -2.807784\n",
      "After round   17 Energy:    -2.807784\n",
      "After round   18 Energy:    -2.807784\n",
      "After round   19 Energy:    -2.807784\n"
     ]
    }
   ],
   "source": [
    "OldEner = -1.0E0\n",
    "Ener    = 0.0E0\n",
    "\n",
    "ener_traj = []\n",
    "for i in range(20): \n",
    "    OldEner = Ener\n",
    "    G = calc_G(N_tot,D,Q)\n",
    "    F = calc_F(N_tot,G,Hcore)\n",
    "    Ener, D_new = DiagFock(s,N_tot,F,Hcore,D,V,Vd,Q,i)\n",
    "\n",
    "    ener_traj.append(Ener)\n",
    "    D = copy.deepcopy(D_new)"
   ]
  },
  {
   "cell_type": "markdown",
   "metadata": {},
   "source": []
  }
 ],
 "metadata": {
  "kernelspec": {
   "display_name": "Python 3",
   "language": "python",
   "name": "python3"
  },
  "language_info": {
   "codemirror_mode": {
    "name": "ipython",
    "version": 3
   },
   "file_extension": ".py",
   "mimetype": "text/x-python",
   "name": "python",
   "nbconvert_exporter": "python",
   "pygments_lexer": "ipython3",
   "version": "3.8.5"
  }
 },
 "nbformat": 4,
 "nbformat_minor": 5
}
